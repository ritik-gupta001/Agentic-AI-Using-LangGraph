{
 "cells": [
  {
   "cell_type": "code",
   "execution_count": 39,
   "id": "c0c507b6",
   "metadata": {},
   "outputs": [],
   "source": [
    "\n",
    "from langgraph.graph import StateGraph, START, END\n",
    "from typing import TypedDict\n",
    "from langchain_openai import ChatOpenAI\n",
    "from dotenv import load_dotenv\n",
    "from langgraph.checkpoint.memory import InMemorySaver"
   ]
  },
  {
   "cell_type": "code",
   "execution_count": 40,
   "id": "ea0e19d0",
   "metadata": {},
   "outputs": [],
   "source": [
    "load_dotenv()\n",
    "\n",
    "llm = ChatOpenAI()"
   ]
  },
  {
   "cell_type": "code",
   "execution_count": 41,
   "id": "653f7c5a",
   "metadata": {},
   "outputs": [],
   "source": [
    "class JokeState(TypedDict):\n",
    "\n",
    "    topic: str\n",
    "    joke: str\n",
    "    explanation: str"
   ]
  },
  {
   "cell_type": "code",
   "execution_count": 42,
   "id": "d260e26c",
   "metadata": {},
   "outputs": [],
   "source": [
    "def generate_joke(state: JokeState):\n",
    "\n",
    "    prompt = f'generate a joke on the topic {state[\"topic\"]}'\n",
    "    response = llm.invoke(prompt).content\n",
    "\n",
    "    return {'joke': response}"
   ]
  },
  {
   "cell_type": "code",
   "execution_count": 43,
   "id": "7f5b3ee4",
   "metadata": {},
   "outputs": [],
   "source": [
    "def generate_explanation(state: JokeState):\n",
    "\n",
    "    prompt = f'write an explanation for the joke - {state[\"joke\"]}'\n",
    "    response = llm.invoke(prompt).content\n",
    "\n",
    "    return {'explanation': response}"
   ]
  },
  {
   "cell_type": "code",
   "execution_count": 44,
   "id": "2861a0b7",
   "metadata": {},
   "outputs": [],
   "source": [
    "graph = StateGraph(JokeState)\n",
    "\n",
    "graph.add_node('generate_joke', generate_joke)\n",
    "graph.add_node('generate_explanation', generate_explanation)\n",
    "\n",
    "graph.add_edge(START, 'generate_joke')\n",
    "graph.add_edge('generate_joke', 'generate_explanation')\n",
    "graph.add_edge('generate_explanation', END)\n",
    "\n",
    "checkpointer = InMemorySaver()\n",
    "\n",
    "workflow = graph.compile(checkpointer=checkpointer)"
   ]
  },
  {
   "cell_type": "code",
   "execution_count": 45,
   "id": "01dce652",
   "metadata": {},
   "outputs": [
    {
     "data": {
      "text/plain": [
       "{'topic': 'pizza',\n",
       " 'joke': 'Why did the pizza go to the doctor?\\n\\nBecause it was feeling a little saucy!',\n",
       " 'explanation': 'This joke plays on the double meaning of the word \"saucy.\" Typically, \"saucy\" means bold, cheeky, or sassy. However, in the context of a pizza, it can also refer to the sauce that is commonly used as a topping. So, when the pizza goes to the doctor because it\\'s feeling \"saucy,\" it could mean that the pizza is feeling bold or cheeky, but it also implies that the pizza is actually feeling unwell due to its sauce topping. The humor comes from the clever play on words and the unexpected twist on why the pizza is seeking medical attention.'}"
      ]
     },
     "execution_count": 45,
     "metadata": {},
     "output_type": "execute_result"
    }
   ],
   "source": [
    "config1 = {\"configurable\": {\"thread_id\": \"1\"}}\n",
    "workflow.invoke({'topic':'pizza'}, config=config1)"
   ]
  },
  {
   "cell_type": "code",
   "execution_count": 46,
   "id": "cc3704b1",
   "metadata": {},
   "outputs": [
    {
     "data": {
      "text/plain": [
       "StateSnapshot(values={'topic': 'pizza', 'joke': 'Why did the pizza go to the doctor?\\n\\nBecause it was feeling a little saucy!', 'explanation': 'This joke plays on the double meaning of the word \"saucy.\" Typically, \"saucy\" means bold, cheeky, or sassy. However, in the context of a pizza, it can also refer to the sauce that is commonly used as a topping. So, when the pizza goes to the doctor because it\\'s feeling \"saucy,\" it could mean that the pizza is feeling bold or cheeky, but it also implies that the pizza is actually feeling unwell due to its sauce topping. The humor comes from the clever play on words and the unexpected twist on why the pizza is seeking medical attention.'}, next=(), config={'configurable': {'thread_id': '1', 'checkpoint_ns': '', 'checkpoint_id': '1f088274-2afc-6df8-8002-90d89f2240f4'}}, metadata={'source': 'loop', 'step': 2, 'parents': {}}, created_at='2025-09-02T18:04:25.240496+00:00', parent_config={'configurable': {'thread_id': '1', 'checkpoint_ns': '', 'checkpoint_id': '1f088274-1c52-67df-8001-ae588cd79a10'}}, tasks=(), interrupts=())"
      ]
     },
     "execution_count": 46,
     "metadata": {},
     "output_type": "execute_result"
    }
   ],
   "source": [
    "\n",
    "workflow.get_state(config1)"
   ]
  },
  {
   "cell_type": "code",
   "execution_count": 47,
   "id": "6817e478",
   "metadata": {},
   "outputs": [
    {
     "data": {
      "text/plain": [
       "[StateSnapshot(values={'topic': 'pizza', 'joke': 'Why did the pizza go to the doctor?\\n\\nBecause it was feeling a little saucy!', 'explanation': 'This joke plays on the double meaning of the word \"saucy.\" Typically, \"saucy\" means bold, cheeky, or sassy. However, in the context of a pizza, it can also refer to the sauce that is commonly used as a topping. So, when the pizza goes to the doctor because it\\'s feeling \"saucy,\" it could mean that the pizza is feeling bold or cheeky, but it also implies that the pizza is actually feeling unwell due to its sauce topping. The humor comes from the clever play on words and the unexpected twist on why the pizza is seeking medical attention.'}, next=(), config={'configurable': {'thread_id': '1', 'checkpoint_ns': '', 'checkpoint_id': '1f088274-2afc-6df8-8002-90d89f2240f4'}}, metadata={'source': 'loop', 'step': 2, 'parents': {}}, created_at='2025-09-02T18:04:25.240496+00:00', parent_config={'configurable': {'thread_id': '1', 'checkpoint_ns': '', 'checkpoint_id': '1f088274-1c52-67df-8001-ae588cd79a10'}}, tasks=(), interrupts=()),\n",
       " StateSnapshot(values={'topic': 'pizza', 'joke': 'Why did the pizza go to the doctor?\\n\\nBecause it was feeling a little saucy!'}, next=('generate_explanation',), config={'configurable': {'thread_id': '1', 'checkpoint_ns': '', 'checkpoint_id': '1f088274-1c52-67df-8001-ae588cd79a10'}}, metadata={'source': 'loop', 'step': 1, 'parents': {}}, created_at='2025-09-02T18:04:23.702703+00:00', parent_config={'configurable': {'thread_id': '1', 'checkpoint_ns': '', 'checkpoint_id': '1f088274-1097-6e50-8000-80e019bbfa37'}}, tasks=(PregelTask(id='869a9ffc-2b31-fabc-e475-6033ef33158e', name='generate_explanation', path=('__pregel_pull', 'generate_explanation'), error=None, interrupts=(), state=None, result={'explanation': 'This joke plays on the double meaning of the word \"saucy.\" Typically, \"saucy\" means bold, cheeky, or sassy. However, in the context of a pizza, it can also refer to the sauce that is commonly used as a topping. So, when the pizza goes to the doctor because it\\'s feeling \"saucy,\" it could mean that the pizza is feeling bold or cheeky, but it also implies that the pizza is actually feeling unwell due to its sauce topping. The humor comes from the clever play on words and the unexpected twist on why the pizza is seeking medical attention.'}),), interrupts=()),\n",
       " StateSnapshot(values={'topic': 'pizza'}, next=('generate_joke',), config={'configurable': {'thread_id': '1', 'checkpoint_ns': '', 'checkpoint_id': '1f088274-1097-6e50-8000-80e019bbfa37'}}, metadata={'source': 'loop', 'step': 0, 'parents': {}}, created_at='2025-09-02T18:04:22.472842+00:00', parent_config={'configurable': {'thread_id': '1', 'checkpoint_ns': '', 'checkpoint_id': '1f088274-1092-6641-bfff-b986d7c7b789'}}, tasks=(PregelTask(id='8609c3ed-a0d3-0172-f276-52913af263aa', name='generate_joke', path=('__pregel_pull', 'generate_joke'), error=None, interrupts=(), state=None, result={'joke': 'Why did the pizza go to the doctor?\\n\\nBecause it was feeling a little saucy!'}),), interrupts=()),\n",
       " StateSnapshot(values={}, next=('__start__',), config={'configurable': {'thread_id': '1', 'checkpoint_ns': '', 'checkpoint_id': '1f088274-1092-6641-bfff-b986d7c7b789'}}, metadata={'source': 'input', 'step': -1, 'parents': {}}, created_at='2025-09-02T18:04:22.470593+00:00', parent_config=None, tasks=(PregelTask(id='23e6ae40-406f-d148-c2de-c6fa4d3f44f0', name='__start__', path=('__pregel_pull', '__start__'), error=None, interrupts=(), state=None, result={'topic': 'pizza'}),), interrupts=())]"
      ]
     },
     "execution_count": 47,
     "metadata": {},
     "output_type": "execute_result"
    }
   ],
   "source": [
    "list(workflow.get_state_history(config1))"
   ]
  },
  {
   "cell_type": "code",
   "execution_count": 48,
   "id": "26e98b94",
   "metadata": {},
   "outputs": [
    {
     "data": {
      "text/plain": [
       "{'topic': 'pasta',\n",
       " 'joke': 'Why did the spaghetti go to the party?\\nBecause it was feeling saucy!',\n",
       " 'explanation': 'This joke is a play on words, using the term \"saucy\" in a humorous way. In this context, \"saucy\" typically means bold, impertinent, or cheeky. The joke suggests that the spaghetti, which is usually served with sauce, went to the party because it was feeling bold or cheeky. It\\'s a light-hearted and punny way to explain why the spaghetti decided to attend the party.'}"
      ]
     },
     "execution_count": 48,
     "metadata": {},
     "output_type": "execute_result"
    }
   ],
   "source": [
    "config2 = {\"configurable\": {\"thread_id\": \"2\"}}\n",
    "workflow.invoke({'topic':'pasta'}, config=config2)"
   ]
  },
  {
   "cell_type": "code",
   "execution_count": 49,
   "id": "0d325b74",
   "metadata": {},
   "outputs": [
    {
     "data": {
      "text/plain": [
       "StateSnapshot(values={'topic': 'pizza', 'joke': 'Why did the pizza go to the doctor?\\n\\nBecause it was feeling a little saucy!', 'explanation': 'This joke plays on the double meaning of the word \"saucy.\" Typically, \"saucy\" means bold, cheeky, or sassy. However, in the context of a pizza, it can also refer to the sauce that is commonly used as a topping. So, when the pizza goes to the doctor because it\\'s feeling \"saucy,\" it could mean that the pizza is feeling bold or cheeky, but it also implies that the pizza is actually feeling unwell due to its sauce topping. The humor comes from the clever play on words and the unexpected twist on why the pizza is seeking medical attention.'}, next=(), config={'configurable': {'thread_id': '1', 'checkpoint_ns': '', 'checkpoint_id': '1f088274-2afc-6df8-8002-90d89f2240f4'}}, metadata={'source': 'loop', 'step': 2, 'parents': {}}, created_at='2025-09-02T18:04:25.240496+00:00', parent_config={'configurable': {'thread_id': '1', 'checkpoint_ns': '', 'checkpoint_id': '1f088274-1c52-67df-8001-ae588cd79a10'}}, tasks=(), interrupts=())"
      ]
     },
     "execution_count": 49,
     "metadata": {},
     "output_type": "execute_result"
    }
   ],
   "source": [
    "workflow.get_state(config1)"
   ]
  },
  {
   "cell_type": "code",
   "execution_count": 50,
   "id": "599d0517",
   "metadata": {},
   "outputs": [
    {
     "data": {
      "text/plain": [
       "[StateSnapshot(values={'topic': 'pizza', 'joke': 'Why did the pizza go to the doctor?\\n\\nBecause it was feeling a little saucy!', 'explanation': 'This joke plays on the double meaning of the word \"saucy.\" Typically, \"saucy\" means bold, cheeky, or sassy. However, in the context of a pizza, it can also refer to the sauce that is commonly used as a topping. So, when the pizza goes to the doctor because it\\'s feeling \"saucy,\" it could mean that the pizza is feeling bold or cheeky, but it also implies that the pizza is actually feeling unwell due to its sauce topping. The humor comes from the clever play on words and the unexpected twist on why the pizza is seeking medical attention.'}, next=(), config={'configurable': {'thread_id': '1', 'checkpoint_ns': '', 'checkpoint_id': '1f088274-2afc-6df8-8002-90d89f2240f4'}}, metadata={'source': 'loop', 'step': 2, 'parents': {}}, created_at='2025-09-02T18:04:25.240496+00:00', parent_config={'configurable': {'thread_id': '1', 'checkpoint_ns': '', 'checkpoint_id': '1f088274-1c52-67df-8001-ae588cd79a10'}}, tasks=(), interrupts=()),\n",
       " StateSnapshot(values={'topic': 'pizza', 'joke': 'Why did the pizza go to the doctor?\\n\\nBecause it was feeling a little saucy!'}, next=('generate_explanation',), config={'configurable': {'thread_id': '1', 'checkpoint_ns': '', 'checkpoint_id': '1f088274-1c52-67df-8001-ae588cd79a10'}}, metadata={'source': 'loop', 'step': 1, 'parents': {}}, created_at='2025-09-02T18:04:23.702703+00:00', parent_config={'configurable': {'thread_id': '1', 'checkpoint_ns': '', 'checkpoint_id': '1f088274-1097-6e50-8000-80e019bbfa37'}}, tasks=(PregelTask(id='869a9ffc-2b31-fabc-e475-6033ef33158e', name='generate_explanation', path=('__pregel_pull', 'generate_explanation'), error=None, interrupts=(), state=None, result={'explanation': 'This joke plays on the double meaning of the word \"saucy.\" Typically, \"saucy\" means bold, cheeky, or sassy. However, in the context of a pizza, it can also refer to the sauce that is commonly used as a topping. So, when the pizza goes to the doctor because it\\'s feeling \"saucy,\" it could mean that the pizza is feeling bold or cheeky, but it also implies that the pizza is actually feeling unwell due to its sauce topping. The humor comes from the clever play on words and the unexpected twist on why the pizza is seeking medical attention.'}),), interrupts=()),\n",
       " StateSnapshot(values={'topic': 'pizza'}, next=('generate_joke',), config={'configurable': {'thread_id': '1', 'checkpoint_ns': '', 'checkpoint_id': '1f088274-1097-6e50-8000-80e019bbfa37'}}, metadata={'source': 'loop', 'step': 0, 'parents': {}}, created_at='2025-09-02T18:04:22.472842+00:00', parent_config={'configurable': {'thread_id': '1', 'checkpoint_ns': '', 'checkpoint_id': '1f088274-1092-6641-bfff-b986d7c7b789'}}, tasks=(PregelTask(id='8609c3ed-a0d3-0172-f276-52913af263aa', name='generate_joke', path=('__pregel_pull', 'generate_joke'), error=None, interrupts=(), state=None, result={'joke': 'Why did the pizza go to the doctor?\\n\\nBecause it was feeling a little saucy!'}),), interrupts=()),\n",
       " StateSnapshot(values={}, next=('__start__',), config={'configurable': {'thread_id': '1', 'checkpoint_ns': '', 'checkpoint_id': '1f088274-1092-6641-bfff-b986d7c7b789'}}, metadata={'source': 'input', 'step': -1, 'parents': {}}, created_at='2025-09-02T18:04:22.470593+00:00', parent_config=None, tasks=(PregelTask(id='23e6ae40-406f-d148-c2de-c6fa4d3f44f0', name='__start__', path=('__pregel_pull', '__start__'), error=None, interrupts=(), state=None, result={'topic': 'pizza'}),), interrupts=())]"
      ]
     },
     "execution_count": 50,
     "metadata": {},
     "output_type": "execute_result"
    }
   ],
   "source": [
    "list(workflow.get_state_history(config1))"
   ]
  },
  {
   "cell_type": "markdown",
   "id": "d32a02f2",
   "metadata": {},
   "source": [
    "Time-Travel"
   ]
  },
  {
   "cell_type": "code",
   "execution_count": 53,
   "id": "e054e371",
   "metadata": {},
   "outputs": [
    {
     "data": {
      "text/plain": [
       "StateSnapshot(values={'topic': 'pizza'}, next=('generate_joke',), config={'configurable': {'thread_id': '1', 'checkpoint_id': '1f088274-1097-6e50-8000-80e019bbfa37'}}, metadata={'source': 'loop', 'step': 0, 'parents': {}}, created_at='2025-09-02T18:04:22.472842+00:00', parent_config={'configurable': {'thread_id': '1', 'checkpoint_ns': '', 'checkpoint_id': '1f088274-1092-6641-bfff-b986d7c7b789'}}, tasks=(PregelTask(id='8609c3ed-a0d3-0172-f276-52913af263aa', name='generate_joke', path=('__pregel_pull', 'generate_joke'), error=None, interrupts=(), state=None, result={'joke': 'Why did the pizza go to the doctor?\\n\\nBecause it was feeling a little saucy!'}),), interrupts=())"
      ]
     },
     "execution_count": 53,
     "metadata": {},
     "output_type": "execute_result"
    }
   ],
   "source": [
    "workflow.get_state({\"configurable\": {\"thread_id\": \"1\", \"checkpoint_id\": \"1f088274-1097-6e50-8000-80e019bbfa37\"}})"
   ]
  },
  {
   "cell_type": "code",
   "execution_count": 54,
   "id": "762bbf4a",
   "metadata": {},
   "outputs": [
    {
     "data": {
      "text/plain": [
       "{'topic': 'pizza',\n",
       " 'joke': 'Why did the pizza go to the party?\\n\\nBecause it knew how to bring the extra dough!',\n",
       " 'explanation': 'This joke plays on the double meaning of \"dough.\" In the context of pizza, dough refers to the base of the pizza made from flour, water, and yeast. However, in this joke, \"dough\" is also slang for money. So when the pizza went to the party, it not only brought its delicious self but also brought some extra money (extra dough) to contribute to the festivities.'}"
      ]
     },
     "execution_count": 54,
     "metadata": {},
     "output_type": "execute_result"
    }
   ],
   "source": [
    "workflow.invoke(None, {\"configurable\": {\"thread_id\": \"1\", \"checkpoint_id\": \"1f088274-1097-6e50-8000-80e019bbfa37\"}})"
   ]
  },
  {
   "cell_type": "code",
   "execution_count": 55,
   "id": "46acf9c0",
   "metadata": {},
   "outputs": [
    {
     "data": {
      "text/plain": [
       "[StateSnapshot(values={'topic': 'pizza', 'joke': 'Why did the pizza go to the party?\\n\\nBecause it knew how to bring the extra dough!', 'explanation': 'This joke plays on the double meaning of \"dough.\" In the context of pizza, dough refers to the base of the pizza made from flour, water, and yeast. However, in this joke, \"dough\" is also slang for money. So when the pizza went to the party, it not only brought its delicious self but also brought some extra money (extra dough) to contribute to the festivities.'}, next=(), config={'configurable': {'thread_id': '1', 'checkpoint_ns': '', 'checkpoint_id': '1f088279-4891-6081-8002-9a7feeaf6a81'}}, metadata={'source': 'loop', 'step': 2, 'parents': {}}, created_at='2025-09-02T18:06:42.559776+00:00', parent_config={'configurable': {'thread_id': '1', 'checkpoint_ns': '', 'checkpoint_id': '1f088279-3be7-65a2-8001-d346493cd30b'}}, tasks=(), interrupts=()),\n",
       " StateSnapshot(values={'topic': 'pizza', 'joke': 'Why did the pizza go to the party?\\n\\nBecause it knew how to bring the extra dough!'}, next=('generate_explanation',), config={'configurable': {'thread_id': '1', 'checkpoint_ns': '', 'checkpoint_id': '1f088279-3be7-65a2-8001-d346493cd30b'}}, metadata={'source': 'loop', 'step': 1, 'parents': {}}, created_at='2025-09-02T18:06:41.231931+00:00', parent_config={'configurable': {'thread_id': '1', 'checkpoint_ns': '', 'checkpoint_id': '1f088274-1097-6e50-8000-80e019bbfa37'}}, tasks=(PregelTask(id='a2a9d7ad-4b2b-7af2-d7d3-32fba7c61555', name='generate_explanation', path=('__pregel_pull', 'generate_explanation'), error=None, interrupts=(), state=None, result={'explanation': 'This joke plays on the double meaning of \"dough.\" In the context of pizza, dough refers to the base of the pizza made from flour, water, and yeast. However, in this joke, \"dough\" is also slang for money. So when the pizza went to the party, it not only brought its delicious self but also brought some extra money (extra dough) to contribute to the festivities.'}),), interrupts=()),\n",
       " StateSnapshot(values={'topic': 'pizza', 'joke': 'Why did the pizza go to the doctor?\\n\\nBecause it was feeling a little saucy!', 'explanation': 'This joke plays on the double meaning of the word \"saucy.\" Typically, \"saucy\" means bold, cheeky, or sassy. However, in the context of a pizza, it can also refer to the sauce that is commonly used as a topping. So, when the pizza goes to the doctor because it\\'s feeling \"saucy,\" it could mean that the pizza is feeling bold or cheeky, but it also implies that the pizza is actually feeling unwell due to its sauce topping. The humor comes from the clever play on words and the unexpected twist on why the pizza is seeking medical attention.'}, next=(), config={'configurable': {'thread_id': '1', 'checkpoint_ns': '', 'checkpoint_id': '1f088274-2afc-6df8-8002-90d89f2240f4'}}, metadata={'source': 'loop', 'step': 2, 'parents': {}}, created_at='2025-09-02T18:04:25.240496+00:00', parent_config={'configurable': {'thread_id': '1', 'checkpoint_ns': '', 'checkpoint_id': '1f088274-1c52-67df-8001-ae588cd79a10'}}, tasks=(), interrupts=()),\n",
       " StateSnapshot(values={'topic': 'pizza', 'joke': 'Why did the pizza go to the doctor?\\n\\nBecause it was feeling a little saucy!'}, next=('generate_explanation',), config={'configurable': {'thread_id': '1', 'checkpoint_ns': '', 'checkpoint_id': '1f088274-1c52-67df-8001-ae588cd79a10'}}, metadata={'source': 'loop', 'step': 1, 'parents': {}}, created_at='2025-09-02T18:04:23.702703+00:00', parent_config={'configurable': {'thread_id': '1', 'checkpoint_ns': '', 'checkpoint_id': '1f088274-1097-6e50-8000-80e019bbfa37'}}, tasks=(PregelTask(id='869a9ffc-2b31-fabc-e475-6033ef33158e', name='generate_explanation', path=('__pregel_pull', 'generate_explanation'), error=None, interrupts=(), state=None, result={'explanation': 'This joke plays on the double meaning of the word \"saucy.\" Typically, \"saucy\" means bold, cheeky, or sassy. However, in the context of a pizza, it can also refer to the sauce that is commonly used as a topping. So, when the pizza goes to the doctor because it\\'s feeling \"saucy,\" it could mean that the pizza is feeling bold or cheeky, but it also implies that the pizza is actually feeling unwell due to its sauce topping. The humor comes from the clever play on words and the unexpected twist on why the pizza is seeking medical attention.'}),), interrupts=()),\n",
       " StateSnapshot(values={'topic': 'pizza'}, next=('generate_joke',), config={'configurable': {'thread_id': '1', 'checkpoint_ns': '', 'checkpoint_id': '1f088274-1097-6e50-8000-80e019bbfa37'}}, metadata={'source': 'loop', 'step': 0, 'parents': {}}, created_at='2025-09-02T18:04:22.472842+00:00', parent_config={'configurable': {'thread_id': '1', 'checkpoint_ns': '', 'checkpoint_id': '1f088274-1092-6641-bfff-b986d7c7b789'}}, tasks=(PregelTask(id='8609c3ed-a0d3-0172-f276-52913af263aa', name='generate_joke', path=('__pregel_pull', 'generate_joke'), error=None, interrupts=(), state=None, result={'joke': 'Why did the pizza go to the doctor?\\n\\nBecause it was feeling a little saucy!'}),), interrupts=()),\n",
       " StateSnapshot(values={}, next=('__start__',), config={'configurable': {'thread_id': '1', 'checkpoint_ns': '', 'checkpoint_id': '1f088274-1092-6641-bfff-b986d7c7b789'}}, metadata={'source': 'input', 'step': -1, 'parents': {}}, created_at='2025-09-02T18:04:22.470593+00:00', parent_config=None, tasks=(PregelTask(id='23e6ae40-406f-d148-c2de-c6fa4d3f44f0', name='__start__', path=('__pregel_pull', '__start__'), error=None, interrupts=(), state=None, result={'topic': 'pizza'}),), interrupts=())]"
      ]
     },
     "execution_count": 55,
     "metadata": {},
     "output_type": "execute_result"
    }
   ],
   "source": [
    "list(workflow.get_state_history(config1))"
   ]
  },
  {
   "cell_type": "markdown",
   "id": "d69b5357",
   "metadata": {},
   "source": [
    "Updating State"
   ]
  },
  {
   "cell_type": "code",
   "execution_count": 56,
   "id": "a8116f04",
   "metadata": {},
   "outputs": [
    {
     "data": {
      "text/plain": [
       "{'configurable': {'thread_id': '1',\n",
       "  'checkpoint_ns': '',\n",
       "  'checkpoint_id': '1f08827a-df14-6e58-8001-e7bb074f8e43'}}"
      ]
     },
     "execution_count": 56,
     "metadata": {},
     "output_type": "execute_result"
    }
   ],
   "source": [
    "workflow.update_state({\"configurable\": {\"thread_id\": \"1\", \"checkpoint_id\": \"1f088274-1097-6e50-8000-80e019bbfa37\", \"checkpoint_ns\": \"\"}}, {'topic':'samosa'})"
   ]
  },
  {
   "cell_type": "code",
   "execution_count": 57,
   "id": "14b94fb9",
   "metadata": {},
   "outputs": [
    {
     "data": {
      "text/plain": [
       "[StateSnapshot(values={'topic': 'samosa'}, next=('generate_joke',), config={'configurable': {'thread_id': '1', 'checkpoint_ns': '', 'checkpoint_id': '1f08827a-df14-6e58-8001-e7bb074f8e43'}}, metadata={'source': 'update', 'step': 1, 'parents': {}}, created_at='2025-09-02T18:07:25.185982+00:00', parent_config={'configurable': {'thread_id': '1', 'checkpoint_ns': '', 'checkpoint_id': '1f088274-1097-6e50-8000-80e019bbfa37'}}, tasks=(PregelTask(id='b0899625-de26-7ea5-4fe8-f48f8d7ccf19', name='generate_joke', path=('__pregel_pull', 'generate_joke'), error=None, interrupts=(), state=None, result=None),), interrupts=()),\n",
       " StateSnapshot(values={'topic': 'pizza', 'joke': 'Why did the pizza go to the party?\\n\\nBecause it knew how to bring the extra dough!', 'explanation': 'This joke plays on the double meaning of \"dough.\" In the context of pizza, dough refers to the base of the pizza made from flour, water, and yeast. However, in this joke, \"dough\" is also slang for money. So when the pizza went to the party, it not only brought its delicious self but also brought some extra money (extra dough) to contribute to the festivities.'}, next=(), config={'configurable': {'thread_id': '1', 'checkpoint_ns': '', 'checkpoint_id': '1f088279-4891-6081-8002-9a7feeaf6a81'}}, metadata={'source': 'loop', 'step': 2, 'parents': {}}, created_at='2025-09-02T18:06:42.559776+00:00', parent_config={'configurable': {'thread_id': '1', 'checkpoint_ns': '', 'checkpoint_id': '1f088279-3be7-65a2-8001-d346493cd30b'}}, tasks=(), interrupts=()),\n",
       " StateSnapshot(values={'topic': 'pizza', 'joke': 'Why did the pizza go to the party?\\n\\nBecause it knew how to bring the extra dough!'}, next=('generate_explanation',), config={'configurable': {'thread_id': '1', 'checkpoint_ns': '', 'checkpoint_id': '1f088279-3be7-65a2-8001-d346493cd30b'}}, metadata={'source': 'loop', 'step': 1, 'parents': {}}, created_at='2025-09-02T18:06:41.231931+00:00', parent_config={'configurable': {'thread_id': '1', 'checkpoint_ns': '', 'checkpoint_id': '1f088274-1097-6e50-8000-80e019bbfa37'}}, tasks=(PregelTask(id='a2a9d7ad-4b2b-7af2-d7d3-32fba7c61555', name='generate_explanation', path=('__pregel_pull', 'generate_explanation'), error=None, interrupts=(), state=None, result={'explanation': 'This joke plays on the double meaning of \"dough.\" In the context of pizza, dough refers to the base of the pizza made from flour, water, and yeast. However, in this joke, \"dough\" is also slang for money. So when the pizza went to the party, it not only brought its delicious self but also brought some extra money (extra dough) to contribute to the festivities.'}),), interrupts=()),\n",
       " StateSnapshot(values={'topic': 'pizza', 'joke': 'Why did the pizza go to the doctor?\\n\\nBecause it was feeling a little saucy!', 'explanation': 'This joke plays on the double meaning of the word \"saucy.\" Typically, \"saucy\" means bold, cheeky, or sassy. However, in the context of a pizza, it can also refer to the sauce that is commonly used as a topping. So, when the pizza goes to the doctor because it\\'s feeling \"saucy,\" it could mean that the pizza is feeling bold or cheeky, but it also implies that the pizza is actually feeling unwell due to its sauce topping. The humor comes from the clever play on words and the unexpected twist on why the pizza is seeking medical attention.'}, next=(), config={'configurable': {'thread_id': '1', 'checkpoint_ns': '', 'checkpoint_id': '1f088274-2afc-6df8-8002-90d89f2240f4'}}, metadata={'source': 'loop', 'step': 2, 'parents': {}}, created_at='2025-09-02T18:04:25.240496+00:00', parent_config={'configurable': {'thread_id': '1', 'checkpoint_ns': '', 'checkpoint_id': '1f088274-1c52-67df-8001-ae588cd79a10'}}, tasks=(), interrupts=()),\n",
       " StateSnapshot(values={'topic': 'pizza', 'joke': 'Why did the pizza go to the doctor?\\n\\nBecause it was feeling a little saucy!'}, next=('generate_explanation',), config={'configurable': {'thread_id': '1', 'checkpoint_ns': '', 'checkpoint_id': '1f088274-1c52-67df-8001-ae588cd79a10'}}, metadata={'source': 'loop', 'step': 1, 'parents': {}}, created_at='2025-09-02T18:04:23.702703+00:00', parent_config={'configurable': {'thread_id': '1', 'checkpoint_ns': '', 'checkpoint_id': '1f088274-1097-6e50-8000-80e019bbfa37'}}, tasks=(PregelTask(id='869a9ffc-2b31-fabc-e475-6033ef33158e', name='generate_explanation', path=('__pregel_pull', 'generate_explanation'), error=None, interrupts=(), state=None, result={'explanation': 'This joke plays on the double meaning of the word \"saucy.\" Typically, \"saucy\" means bold, cheeky, or sassy. However, in the context of a pizza, it can also refer to the sauce that is commonly used as a topping. So, when the pizza goes to the doctor because it\\'s feeling \"saucy,\" it could mean that the pizza is feeling bold or cheeky, but it also implies that the pizza is actually feeling unwell due to its sauce topping. The humor comes from the clever play on words and the unexpected twist on why the pizza is seeking medical attention.'}),), interrupts=()),\n",
       " StateSnapshot(values={'topic': 'pizza'}, next=('generate_joke',), config={'configurable': {'thread_id': '1', 'checkpoint_ns': '', 'checkpoint_id': '1f088274-1097-6e50-8000-80e019bbfa37'}}, metadata={'source': 'loop', 'step': 0, 'parents': {}}, created_at='2025-09-02T18:04:22.472842+00:00', parent_config={'configurable': {'thread_id': '1', 'checkpoint_ns': '', 'checkpoint_id': '1f088274-1092-6641-bfff-b986d7c7b789'}}, tasks=(PregelTask(id='8609c3ed-a0d3-0172-f276-52913af263aa', name='generate_joke', path=('__pregel_pull', 'generate_joke'), error=None, interrupts=(), state=None, result={'joke': 'Why did the pizza go to the doctor?\\n\\nBecause it was feeling a little saucy!'}),), interrupts=()),\n",
       " StateSnapshot(values={}, next=('__start__',), config={'configurable': {'thread_id': '1', 'checkpoint_ns': '', 'checkpoint_id': '1f088274-1092-6641-bfff-b986d7c7b789'}}, metadata={'source': 'input', 'step': -1, 'parents': {}}, created_at='2025-09-02T18:04:22.470593+00:00', parent_config=None, tasks=(PregelTask(id='23e6ae40-406f-d148-c2de-c6fa4d3f44f0', name='__start__', path=('__pregel_pull', '__start__'), error=None, interrupts=(), state=None, result={'topic': 'pizza'}),), interrupts=())]"
      ]
     },
     "execution_count": 57,
     "metadata": {},
     "output_type": "execute_result"
    }
   ],
   "source": [
    "\n",
    "list(workflow.get_state_history(config1))"
   ]
  },
  {
   "cell_type": "code",
   "execution_count": 58,
   "id": "d0b747db",
   "metadata": {},
   "outputs": [
    {
     "data": {
      "text/plain": [
       "{'topic': 'samosa',\n",
       " 'joke': \"Why did the samosa go to the party alone? \\nBecause it couldn't find a date to curry favor with!\",\n",
       " 'explanation': 'This joke plays on the double meaning of the phrase \"find a date.\" In the context of going to a party, it usually means to find a companion or someone to go with. However, in the context of the joke, \"curry favor\" refers to trying to gain someone\\'s approval or favor, and \"date\" could also mean the fruit that is commonly used in Indian cuisine. So, the samosa went to the party alone because it couldn\\'t find a date (the fruit used in curry dishes) to curry favor with (try to gain approval from).'}"
      ]
     },
     "execution_count": 58,
     "metadata": {},
     "output_type": "execute_result"
    }
   ],
   "source": [
    "workflow.invoke(None, {\"configurable\": {\"thread_id\": \"1\", \"checkpoint_id\": \"1f08827a-df14-6e58-8001-e7bb074f8e43\"}})"
   ]
  },
  {
   "cell_type": "code",
   "execution_count": 59,
   "id": "37002890",
   "metadata": {},
   "outputs": [
    {
     "data": {
      "text/plain": [
       "[StateSnapshot(values={'topic': 'samosa', 'joke': \"Why did the samosa go to the party alone? \\nBecause it couldn't find a date to curry favor with!\", 'explanation': 'This joke plays on the double meaning of the phrase \"find a date.\" In the context of going to a party, it usually means to find a companion or someone to go with. However, in the context of the joke, \"curry favor\" refers to trying to gain someone\\'s approval or favor, and \"date\" could also mean the fruit that is commonly used in Indian cuisine. So, the samosa went to the party alone because it couldn\\'t find a date (the fruit used in curry dishes) to curry favor with (try to gain approval from).'}, next=(), config={'configurable': {'thread_id': '1', 'checkpoint_ns': '', 'checkpoint_id': '1f08827c-e543-6718-8003-2a3d54eae98a'}}, metadata={'source': 'loop', 'step': 3, 'parents': {}}, created_at='2025-09-02T18:08:19.521281+00:00', parent_config={'configurable': {'thread_id': '1', 'checkpoint_ns': '', 'checkpoint_id': '1f08827c-cfe9-6a25-8002-918d32ba844a'}}, tasks=(), interrupts=()),\n",
       " StateSnapshot(values={'topic': 'samosa', 'joke': \"Why did the samosa go to the party alone? \\nBecause it couldn't find a date to curry favor with!\"}, next=('generate_explanation',), config={'configurable': {'thread_id': '1', 'checkpoint_ns': '', 'checkpoint_id': '1f08827c-cfe9-6a25-8002-918d32ba844a'}}, metadata={'source': 'loop', 'step': 2, 'parents': {}}, created_at='2025-09-02T18:08:17.282483+00:00', parent_config={'configurable': {'thread_id': '1', 'checkpoint_ns': '', 'checkpoint_id': '1f08827a-df14-6e58-8001-e7bb074f8e43'}}, tasks=(PregelTask(id='3184a614-7ecd-1d47-5ad5-c70fbb41a8e6', name='generate_explanation', path=('__pregel_pull', 'generate_explanation'), error=None, interrupts=(), state=None, result={'explanation': 'This joke plays on the double meaning of the phrase \"find a date.\" In the context of going to a party, it usually means to find a companion or someone to go with. However, in the context of the joke, \"curry favor\" refers to trying to gain someone\\'s approval or favor, and \"date\" could also mean the fruit that is commonly used in Indian cuisine. So, the samosa went to the party alone because it couldn\\'t find a date (the fruit used in curry dishes) to curry favor with (try to gain approval from).'}),), interrupts=()),\n",
       " StateSnapshot(values={'topic': 'samosa'}, next=('generate_joke',), config={'configurable': {'thread_id': '1', 'checkpoint_ns': '', 'checkpoint_id': '1f08827a-df14-6e58-8001-e7bb074f8e43'}}, metadata={'source': 'update', 'step': 1, 'parents': {}}, created_at='2025-09-02T18:07:25.185982+00:00', parent_config={'configurable': {'thread_id': '1', 'checkpoint_ns': '', 'checkpoint_id': '1f088274-1097-6e50-8000-80e019bbfa37'}}, tasks=(PregelTask(id='b0899625-de26-7ea5-4fe8-f48f8d7ccf19', name='generate_joke', path=('__pregel_pull', 'generate_joke'), error=None, interrupts=(), state=None, result={'joke': \"Why did the samosa go to the party alone? \\nBecause it couldn't find a date to curry favor with!\"}),), interrupts=()),\n",
       " StateSnapshot(values={'topic': 'pizza', 'joke': 'Why did the pizza go to the party?\\n\\nBecause it knew how to bring the extra dough!', 'explanation': 'This joke plays on the double meaning of \"dough.\" In the context of pizza, dough refers to the base of the pizza made from flour, water, and yeast. However, in this joke, \"dough\" is also slang for money. So when the pizza went to the party, it not only brought its delicious self but also brought some extra money (extra dough) to contribute to the festivities.'}, next=(), config={'configurable': {'thread_id': '1', 'checkpoint_ns': '', 'checkpoint_id': '1f088279-4891-6081-8002-9a7feeaf6a81'}}, metadata={'source': 'loop', 'step': 2, 'parents': {}}, created_at='2025-09-02T18:06:42.559776+00:00', parent_config={'configurable': {'thread_id': '1', 'checkpoint_ns': '', 'checkpoint_id': '1f088279-3be7-65a2-8001-d346493cd30b'}}, tasks=(), interrupts=()),\n",
       " StateSnapshot(values={'topic': 'pizza', 'joke': 'Why did the pizza go to the party?\\n\\nBecause it knew how to bring the extra dough!'}, next=('generate_explanation',), config={'configurable': {'thread_id': '1', 'checkpoint_ns': '', 'checkpoint_id': '1f088279-3be7-65a2-8001-d346493cd30b'}}, metadata={'source': 'loop', 'step': 1, 'parents': {}}, created_at='2025-09-02T18:06:41.231931+00:00', parent_config={'configurable': {'thread_id': '1', 'checkpoint_ns': '', 'checkpoint_id': '1f088274-1097-6e50-8000-80e019bbfa37'}}, tasks=(PregelTask(id='a2a9d7ad-4b2b-7af2-d7d3-32fba7c61555', name='generate_explanation', path=('__pregel_pull', 'generate_explanation'), error=None, interrupts=(), state=None, result={'explanation': 'This joke plays on the double meaning of \"dough.\" In the context of pizza, dough refers to the base of the pizza made from flour, water, and yeast. However, in this joke, \"dough\" is also slang for money. So when the pizza went to the party, it not only brought its delicious self but also brought some extra money (extra dough) to contribute to the festivities.'}),), interrupts=()),\n",
       " StateSnapshot(values={'topic': 'pizza', 'joke': 'Why did the pizza go to the doctor?\\n\\nBecause it was feeling a little saucy!', 'explanation': 'This joke plays on the double meaning of the word \"saucy.\" Typically, \"saucy\" means bold, cheeky, or sassy. However, in the context of a pizza, it can also refer to the sauce that is commonly used as a topping. So, when the pizza goes to the doctor because it\\'s feeling \"saucy,\" it could mean that the pizza is feeling bold or cheeky, but it also implies that the pizza is actually feeling unwell due to its sauce topping. The humor comes from the clever play on words and the unexpected twist on why the pizza is seeking medical attention.'}, next=(), config={'configurable': {'thread_id': '1', 'checkpoint_ns': '', 'checkpoint_id': '1f088274-2afc-6df8-8002-90d89f2240f4'}}, metadata={'source': 'loop', 'step': 2, 'parents': {}}, created_at='2025-09-02T18:04:25.240496+00:00', parent_config={'configurable': {'thread_id': '1', 'checkpoint_ns': '', 'checkpoint_id': '1f088274-1c52-67df-8001-ae588cd79a10'}}, tasks=(), interrupts=()),\n",
       " StateSnapshot(values={'topic': 'pizza', 'joke': 'Why did the pizza go to the doctor?\\n\\nBecause it was feeling a little saucy!'}, next=('generate_explanation',), config={'configurable': {'thread_id': '1', 'checkpoint_ns': '', 'checkpoint_id': '1f088274-1c52-67df-8001-ae588cd79a10'}}, metadata={'source': 'loop', 'step': 1, 'parents': {}}, created_at='2025-09-02T18:04:23.702703+00:00', parent_config={'configurable': {'thread_id': '1', 'checkpoint_ns': '', 'checkpoint_id': '1f088274-1097-6e50-8000-80e019bbfa37'}}, tasks=(PregelTask(id='869a9ffc-2b31-fabc-e475-6033ef33158e', name='generate_explanation', path=('__pregel_pull', 'generate_explanation'), error=None, interrupts=(), state=None, result={'explanation': 'This joke plays on the double meaning of the word \"saucy.\" Typically, \"saucy\" means bold, cheeky, or sassy. However, in the context of a pizza, it can also refer to the sauce that is commonly used as a topping. So, when the pizza goes to the doctor because it\\'s feeling \"saucy,\" it could mean that the pizza is feeling bold or cheeky, but it also implies that the pizza is actually feeling unwell due to its sauce topping. The humor comes from the clever play on words and the unexpected twist on why the pizza is seeking medical attention.'}),), interrupts=()),\n",
       " StateSnapshot(values={'topic': 'pizza'}, next=('generate_joke',), config={'configurable': {'thread_id': '1', 'checkpoint_ns': '', 'checkpoint_id': '1f088274-1097-6e50-8000-80e019bbfa37'}}, metadata={'source': 'loop', 'step': 0, 'parents': {}}, created_at='2025-09-02T18:04:22.472842+00:00', parent_config={'configurable': {'thread_id': '1', 'checkpoint_ns': '', 'checkpoint_id': '1f088274-1092-6641-bfff-b986d7c7b789'}}, tasks=(PregelTask(id='8609c3ed-a0d3-0172-f276-52913af263aa', name='generate_joke', path=('__pregel_pull', 'generate_joke'), error=None, interrupts=(), state=None, result={'joke': 'Why did the pizza go to the doctor?\\n\\nBecause it was feeling a little saucy!'}),), interrupts=()),\n",
       " StateSnapshot(values={}, next=('__start__',), config={'configurable': {'thread_id': '1', 'checkpoint_ns': '', 'checkpoint_id': '1f088274-1092-6641-bfff-b986d7c7b789'}}, metadata={'source': 'input', 'step': -1, 'parents': {}}, created_at='2025-09-02T18:04:22.470593+00:00', parent_config=None, tasks=(PregelTask(id='23e6ae40-406f-d148-c2de-c6fa4d3f44f0', name='__start__', path=('__pregel_pull', '__start__'), error=None, interrupts=(), state=None, result={'topic': 'pizza'}),), interrupts=())]"
      ]
     },
     "execution_count": 59,
     "metadata": {},
     "output_type": "execute_result"
    }
   ],
   "source": [
    "list(workflow.get_state_history(config1))"
   ]
  },
  {
   "cell_type": "markdown",
   "id": "29f86c26",
   "metadata": {},
   "source": [
    "Fault Tolerance"
   ]
  },
  {
   "cell_type": "code",
   "execution_count": 60,
   "id": "d78a2ed6",
   "metadata": {},
   "outputs": [],
   "source": [
    "from langgraph.graph import StateGraph, END\n",
    "from langgraph.checkpoint.memory import InMemorySaver\n",
    "from typing import TypedDict\n",
    "import time"
   ]
  },
  {
   "cell_type": "code",
   "execution_count": 61,
   "id": "3bbfe734",
   "metadata": {},
   "outputs": [],
   "source": [
    "# 1. Define the state\n",
    "class CrashState(TypedDict):\n",
    "    input: str\n",
    "    step1: str\n",
    "    step2: str"
   ]
  },
  {
   "cell_type": "code",
   "execution_count": 62,
   "id": "1205b641",
   "metadata": {},
   "outputs": [],
   "source": [
    "# 2. Define steps\n",
    "def step_1(state: CrashState) -> CrashState:\n",
    "    print(\"✅ Step 1 executed\")\n",
    "    return {\"step1\": \"done\", \"input\": state[\"input\"]}\n",
    "\n",
    "def step_2(state: CrashState) -> CrashState:\n",
    "    print(\"⏳ Step 2 hanging... now manually interrupt from the notebook toolbar (STOP button)\")\n",
    "    time.sleep(10)  # Simulate long-running hang\n",
    "    return {\"step2\": \"done\"}\n",
    "\n",
    "def step_3(state: CrashState) -> CrashState:\n",
    "    print(\"✅ Step 3 executed\")\n",
    "    return {\"done\": True}"
   ]
  },
  {
   "cell_type": "code",
   "execution_count": 63,
   "id": "760b628e",
   "metadata": {},
   "outputs": [],
   "source": [
    "# 3. Build the graph\n",
    "builder = StateGraph(CrashState)\n",
    "builder.add_node(\"step_1\", step_1)\n",
    "builder.add_node(\"step_2\", step_2)\n",
    "builder.add_node(\"step_3\", step_3)\n",
    "\n",
    "builder.set_entry_point(\"step_1\")\n",
    "builder.add_edge(\"step_1\", \"step_2\")\n",
    "builder.add_edge(\"step_2\", \"step_3\")\n",
    "builder.add_edge(\"step_3\", END)\n",
    "\n",
    "checkpointer = InMemorySaver()\n",
    "graph = builder.compile(checkpointer=checkpointer)"
   ]
  },
  {
   "cell_type": "code",
   "execution_count": 64,
   "id": "ad312659",
   "metadata": {},
   "outputs": [
    {
     "name": "stdout",
     "output_type": "stream",
     "text": [
      "▶️ Running graph: Please manually interrupt during Step 2...\n",
      "✅ Step 1 executed\n",
      "⏳ Step 2 hanging... now manually interrupt from the notebook toolbar (STOP button)\n",
      "✅ Step 3 executed\n"
     ]
    }
   ],
   "source": [
    "try:\n",
    "    print(\"▶️ Running graph: Please manually interrupt during Step 2...\")\n",
    "    graph.invoke({\"input\": \"start\"}, config={\"configurable\": {\"thread_id\": 'thread-1'}})\n",
    "except KeyboardInterrupt:\n",
    "    print(\"❌ Kernel manually interrupted (crash simulated).\")"
   ]
  },
  {
   "cell_type": "code",
   "execution_count": 66,
   "id": "1670ec82",
   "metadata": {},
   "outputs": [
    {
     "name": "stdout",
     "output_type": "stream",
     "text": [
      "\n",
      "🔁 Re-running the graph to demonstrate fault tolerance...\n",
      "\n",
      "✅ Final State: {'input': 'start', 'step1': 'done', 'step2': 'done'}\n"
     ]
    }
   ],
   "source": [
    "# 6. Re-run to show fault-tolerant resume\n",
    "print(\"\\n🔁 Re-running the graph to demonstrate fault tolerance...\")\n",
    "final_state = graph.invoke(None, config={\"configurable\": {\"thread_id\": 'thread-1'}})\n",
    "print(\"\\n✅ Final State:\", final_state)"
   ]
  },
  {
   "cell_type": "code",
   "execution_count": null,
   "id": "581298d9",
   "metadata": {},
   "outputs": [],
   "source": []
  }
 ],
 "metadata": {
  "kernelspec": {
   "display_name": "myenv (3.13.1)",
   "language": "python",
   "name": "python3"
  },
  "language_info": {
   "codemirror_mode": {
    "name": "ipython",
    "version": 3
   },
   "file_extension": ".py",
   "mimetype": "text/x-python",
   "name": "python",
   "nbconvert_exporter": "python",
   "pygments_lexer": "ipython3",
   "version": "3.13.1"
  }
 },
 "nbformat": 4,
 "nbformat_minor": 5
}
